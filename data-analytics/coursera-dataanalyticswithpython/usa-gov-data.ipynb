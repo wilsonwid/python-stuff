{
 "cells": [
  {
   "cell_type": "code",
   "execution_count": null,
   "metadata": {},
   "outputs": [],
   "source": [
    "import collections\n",
    "import json\n",
    "\n",
    "def get_counts(seq):\n",
    "    # method if we don't want to import:\n",
    "    counter_dict = {}\n",
    "    for ele in seq:\n",
    "        counter_dict[ele] = counter_dict.get(ele, 0) + 1 #.get() method tries to \"get\" the value corresponding to the key, otherwise it will return 0\n",
    "    return counter_dict\n",
    "\n",
    "def get_counts2(sequence):\n",
    "    # creates a dictionary with default values of 0 \n",
    "    counts = collections.defaultdict(int)\n",
    "    for x in sequence:\n",
    "        counts[x] += 1\n",
    "    return counts\n",
    "    \n",
    "\n",
    "def top_counts(dictionary, n = 10):\n",
    "    value_key_pairs = [(counts, tz) for tz, counts in dictionary.items()]\n",
    "    value_key_pairs.sort(key = lambda x: x[0], reverse = True)\n",
    "    \n",
    "    # uses competition ranking\n",
    "    initial_return = value_key_pairs[:n]\n",
    "    last_count = initial_return[-1][0]\n",
    "\n",
    "    for i in range(n, len(value_key_pairs)):\n",
    "        if value_key_pairs[i][0] == last_count:\n",
    "            initial_return += [value_key_pairs[i]]\n",
    "    \n",
    "    return initial_return\n",
    "\n",
    "def top_counts2(timezones, n = 10):\n",
    "    value_key_pairs = collections.Counter(timezones)\n",
    "    return value_key_pairs.most_common(n)\n"
   ]
  },
  {
   "cell_type": "code",
   "execution_count": 2,
   "metadata": {},
   "outputs": [
    {
     "ename": "FileNotFoundError",
     "evalue": "[Errno 2] No such file or directory: 'ch02/usagov_bitly_data2012-03-16-1331923249.txt'",
     "output_type": "error",
     "traceback": [
      "\u001b[0;31m---------------------------------------------------------------------------\u001b[0m",
      "\u001b[0;31mFileNotFoundError\u001b[0m                         Traceback (most recent call last)",
      "\u001b[0;32m/var/folders/d5/4br1cqf106qf55h63xfdt8r40000gn/T/ipykernel_69576/2681644968.py\u001b[0m in \u001b[0;36m<module>\u001b[0;34m\u001b[0m\n\u001b[1;32m      1\u001b[0m \u001b[0mpath\u001b[0m \u001b[0;34m=\u001b[0m \u001b[0;34m\"ch02/usagov_bitly_data2012-03-16-1331923249.txt\"\u001b[0m\u001b[0;34m\u001b[0m\u001b[0;34m\u001b[0m\u001b[0m\n\u001b[0;32m----> 2\u001b[0;31m \u001b[0mrecords\u001b[0m \u001b[0;34m=\u001b[0m \u001b[0;34m[\u001b[0m\u001b[0mjson\u001b[0m\u001b[0;34m.\u001b[0m\u001b[0mloads\u001b[0m\u001b[0;34m(\u001b[0m\u001b[0mline\u001b[0m\u001b[0;34m)\u001b[0m \u001b[0;32mfor\u001b[0m \u001b[0mline\u001b[0m \u001b[0;32min\u001b[0m \u001b[0mopen\u001b[0m\u001b[0;34m(\u001b[0m\u001b[0mpath\u001b[0m\u001b[0;34m)\u001b[0m\u001b[0;34m]\u001b[0m\u001b[0;34m\u001b[0m\u001b[0;34m\u001b[0m\u001b[0m\n\u001b[0m",
      "\u001b[0;31mFileNotFoundError\u001b[0m: [Errno 2] No such file or directory: 'ch02/usagov_bitly_data2012-03-16-1331923249.txt'"
     ]
    }
   ],
   "source": [
    "\n",
    "path = \"ch02/usagov_bitly_data2012-03-16-1331923249.txt\"\n",
    "records = [json.loads(line) for line in open(path)]"
   ]
  }
 ],
 "metadata": {
  "interpreter": {
   "hash": "767d51c1340bd893661ea55ea3124f6de3c7a262a8b4abca0554b478b1e2ff90"
  },
  "kernelspec": {
   "display_name": "Python 2.7.16 64-bit",
   "language": "python",
   "name": "python3"
  },
  "language_info": {
   "codemirror_mode": {
    "name": "ipython",
    "version": 3
   },
   "file_extension": ".py",
   "mimetype": "text/x-python",
   "name": "python",
   "nbconvert_exporter": "python",
   "pygments_lexer": "ipython3",
   "version": "3.10.0"
  },
  "orig_nbformat": 4
 },
 "nbformat": 4,
 "nbformat_minor": 2
}
